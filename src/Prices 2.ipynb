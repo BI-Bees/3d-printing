{
 "cells": [
  {
   "cell_type": "code",
   "execution_count": 151,
   "metadata": {},
   "outputs": [],
   "source": [
    "import pandas as pd\n",
    "import numpy as np\n",
    "import pygal"
   ]
  },
  {
   "cell_type": "code",
   "execution_count": 161,
   "metadata": {},
   "outputs": [],
   "source": [
    "data = '../dataset/printers_only_with_countries.csv'\n",
    "\n",
    "df = pd.read_csv(data)\n",
    "df = df[['Country','Price(US$)', 'Price (USD)']]\n",
    "df.rename(columns={'Price(US$)':'PriceA', 'Price (USD)':'PriceB' }, \n",
    "                 inplace=True)\n",
    "df = df.replace(np.nan, '', regex=True)\n",
    "df = df.replace(',', '.', regex=True)\n",
    "\n",
    "df.PriceA = [x.strip('$') for x in df.PriceA]"
   ]
  },
  {
   "cell_type": "code",
   "execution_count": 153,
   "metadata": {},
   "outputs": [],
   "source": [
    "for i, country in df.iterrows():\n",
    "    if country['Country'] == 'USA':\n",
    "        df.at[i, 'Country'] = 'United States'\n",
    "    elif country['Country'] == 'TaiWan':\n",
    "        df.at[i, 'Country'] = 'Taiwan'\n",
    "    elif country['Country'] == 'UK':\n",
    "        df.at[i, 'Country'] = 'United Kingdom'\n",
    "    elif country['Country'] == 'Korea':\n",
    "        df.at[i, 'Country'] = 'South Korea'\n",
    "    elif country['Country'] == 'Korean':\n",
    "        df.at[i, 'Country'] = 'South Korea'\n",
    "    elif country['Country'] == 'Italian':\n",
    "        df.at[i, 'Country'] = 'Italy'\n",
    "    elif country['Country'] == 'FRANCE':\n",
    "        df.at[i, 'Country'] = 'France'\n",
    "    elif country['Country'] == 'Barcelona':\n",
    "        df.at[i, 'Country'] = 'Spain'\n",
    "    elif country['Country'] == 'Argentina ':\n",
    "        df.at[i, 'Country'] = 'Argentina'\n",
    "    elif country['Country'] == ' contact':\n",
    "        df.at[i, 'Country'] = 'Germany'"
   ]
  },
  {
   "cell_type": "code",
   "execution_count": 154,
   "metadata": {},
   "outputs": [],
   "source": [
    "print()\n",
    "df.PriceA = df.PriceA.replace(' ', '', regex=True)\n",
    "df.PriceA = df.PriceA.replace('\\.[^\\.]*$', '', regex=True)\n",
    "df.PriceA = df.PriceA.replace('[*.*]', '', regex=True)\n",
    "\n",
    "for pa in range(len(df)):\n",
    "    if(df.PriceA[pa] != ''):\n",
    "        df.PriceA[pa] = int(df.PriceA[pa])\n",
    "        if(df.PriceA[pa] < 49999):\n",
    "            df.PriceA[pa] = \"Less than $49.999\"\n",
    "        elif(df.PriceA[pa] >= 50000 and pa < 100000):\n",
    "            df.PriceA[pa] = \"50.000−99.999\"\n",
    "        elif(df.PriceA[pa] >= 100000 and pa < 250000):\n",
    "            df.PriceA[pa] = \"100.000-249.999\"\n",
    "        elif(df.PriceA[pa] >= 250000 and pa < 500000):\n",
    "            df.PriceA[pa] = \"250.000−499.999\"\n",
    "        else:\n",
    "            df.PriceA[pa] = \"500.000−999.999\""
   ]
  },
  {
   "cell_type": "code",
   "execution_count": 155,
   "metadata": {},
   "outputs": [],
   "source": [
    "df['Price'] = ''\n",
    "for p in range(len(df)):\n",
    "   \n",
    "    if(df.PriceA[p] != ''):\n",
    "        df.Price[p] = df.PriceA[p]\n",
    "    elif(df.PriceB[p] != ''):\n",
    "        df.Price[p] = df.PriceB[p]\n",
    "\n",
    "df = df.drop([\"PriceA\", \"PriceB\"], axis=1)"
   ]
  },
  {
   "cell_type": "code",
   "execution_count": 156,
   "metadata": {},
   "outputs": [],
   "source": [
    "for i, price in df.iterrows():\n",
    "    if price['Price'] == '50.000−99.999':\n",
    "        df.at[i, 'Price'] = '$50.000 - $99.999'\n"
   ]
  },
  {
   "cell_type": "code",
   "execution_count": 157,
   "metadata": {},
   "outputs": [],
   "source": [
    "df.to_csv('printers_combined_price.csv', sep=',', header=True)"
   ]
  }
 ],
 "metadata": {
  "kernelspec": {
   "display_name": "Python 3",
   "language": "python",
   "name": "python3"
  },
  "language_info": {
   "codemirror_mode": {
    "name": "ipython",
    "version": 3
   },
   "file_extension": ".py",
   "mimetype": "text/x-python",
   "name": "python",
   "nbconvert_exporter": "python",
   "pygments_lexer": "ipython3",
   "version": "3.6.5"
  }
 },
 "nbformat": 4,
 "nbformat_minor": 2
}
